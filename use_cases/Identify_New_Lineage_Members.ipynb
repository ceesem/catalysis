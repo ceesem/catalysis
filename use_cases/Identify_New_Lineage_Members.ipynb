{
 "cells": [
  {
   "cell_type": "markdown",
   "metadata": {},
   "source": [
    "In this notebook, starting from a lineage-labeled neuron, we collect lineages nearby and check to see if the annotation is indeed correct, based on a naive Bayes classifier trained on the local environment around a particular lineage entry point."
   ]
  },
  {
   "cell_type": "code",
   "execution_count": 2,
   "metadata": {},
   "outputs": [],
   "source": [
    "import sys\n",
    "sys.path.append('/Users/caseyschneider-mizell/Work/official_catpy')\n",
    "sys.path.append('/Users/caseyschneider-mizell/Work/catalysis')\n",
    "\n",
    "import catalysis as cat\n",
    "import catalysis.pynblast as pynblast\n",
    "import catalysis.plt as catplt\n",
    "import catalysis.transform as transform\n",
    "import catalysis.completeness as completeness\n",
    "import catalysis.lineage_classifier as lineage_classifier\n",
    "\n",
    "import plotly.offline as py\n",
    "import plotly.graph_objs as go\n",
    "\n",
    "import seaborn as sns\n",
    "import matplotlib.pyplot as plt\n",
    "import matplotlib.colors as cl\n",
    "\n",
    "import numpy as np\n",
    "import scipy as sp\n",
    "import pandas as pd\n",
    "import networkx as nx\n",
    "import re\n",
    "import dill as pickle\n",
    "\n",
    "from IPython.core.display import display, HTML\n",
    "\n",
    "from itertools import chain, cycle\n",
    "from sklearn import cluster\n",
    "from sklearn.neighbors.kde import KernelDensity\n",
    "\n",
    "from importlib import reload"
   ]
  },
  {
   "cell_type": "code",
   "execution_count": 5,
   "metadata": {},
   "outputs": [],
   "source": [
    "my_json_project_file =  '/Users/caseyschneider-mizell/Work/catpy/cardonalab_projects_info.json'\n",
    "l1data = cat.CatmaidDataInterface.from_json( my_json_project_file )"
   ]
  },
  {
   "cell_type": "code",
   "execution_count": 6,
   "metadata": {},
   "outputs": [],
   "source": [
    "adult_fly_f = pd.read_csv(\"~/Work/catalysis/data/smat_jefferis.csv\",delimiter=' ')\n",
    "smat = pynblast.ScoreMatrixLookup.from_dataframe( adult_fly_f )\n",
    "# Do this to reduce things to L1 volume size and change scale to nm, based on scale up observed in the L1/L3 data papers and desired properties\n",
    "smat.d_range = smat.d_range * 1000 / 4\n",
    "\n",
    "with open(\"../data/Brain_Lineage_Landmarks_EMtoEM_ProjectSpace.csv\") as fid:\n",
    "    lin_landmarks = pd.read_csv(fid)\n",
    "\n",
    "side_name = ['l_loc', 'r_loc']\n",
    "\n",
    "wb_match = re.compile('\\*.*akira')\n",
    "lineage_parser = re.compile('\\*(?P<group>.*?)_(?P<instance>[rl]) akira')\n",
    "hemilateral_groups = l1data.match_groups_from_select_annotations( wb_match, lineage_parser )\n",
    "\n",
    "all_lins = []\n",
    "for lin in sorted(list(hemilateral_groups.keys())):\n",
    "    for side in hemilateral_groups[lin]:\n",
    "        all_lins.append(hemilateral_groups[lin][side])\n",
    "\n",
    "lin_df = lineage_classifier.lineage_table( hemilateral_groups, lin_landmarks, side_name )"
   ]
  },
  {
   "cell_type": "markdown",
   "metadata": {},
   "source": [
    "---\n",
    "## Continued thoughts on bundling approach.\n",
    "\n",
    "We want to use NBLAST to identify currently unannotated neurons that should belong to a target lineage. While in principle, lineage bundles are fairly clear, in practice that is not the case at all. In some instances, you really need the EM to guide you into seeing who genuinely bundles with whom. Part of this may be that the NBLAST cost function needs to be re-jiggered for this purpose. Bundled neurites are vastly more similar than is the case with whole arbors in transformed spaces, after all. The first step really should be to re-compute the NBLAST scores in this particular domain. However, there will still be outliers, and the clustering should be softer than a simple k-means would properly give you, giving you a ranked list of candidates.\n",
    "\n",
    "For a given neuron $\\textbf{x}$ and lineage $L_i \\in \\{L_i\\}$, we want to find the lineage $i$ which maximizes $P( \\textbf{x} \\in L_i | <\\textbf{x},\\textbf{y}>_{\\textbf{y} \\in L_i})$, where $<\\textbf{x},\\textbf{y}>_{y \\ in L_i}$ indicates the mean NBLAST distance to all neurons in $L_i$. \n",
    "After trivial application of Bayes's rule, the probability of $\\textbf{x} \\in L_i$ given the evidence is:\n",
    "$$\n",
    "P( \\textbf{x} \\in L_i \\mid <\\textbf{x},\\textbf{y}>_{\\textbf{y} \\in L_i}) = \n",
    "    P\\left( <\\textbf{x},\\textbf{y}>_{\\textbf{y} \\in L_i} \\mid \\textbf{x} \\in L_i \\right)\n",
    "    \\frac{P\\left( \\textbf{x} \\in L_i \\right)}{P\\left( <\\textbf{x},\\textbf{y}>_{\\textbf{y} \\in L_i} \\right)}\n",
    "$$\n",
    "\n",
    "We need to do comparison for those lineages for a specific region determined by the neuron at hand, since some lineages have more similar lineages than others. This is effectively like hand-setting distant lineages to probability 0 and not bothering with the computations.\n",
    "\n",
    "By pre-computing the NBLAST distance scores, all of these values can be computed quickly, leaving only $N \\times 1$ NBLAST comparisons (where N is the number of proximate neurites, for which the dotprops themselves can be pre-computed). Retraining can happen on that matrix.\n",
    "\n",
    "* We can estimate $P( <\\mathbf{x},\\mathbf{y}>_{\\mathbf{y} \\in L_i} \\mid \\mathbf{x} \\in L_i )$ for each $i$ (using all $\\mathbf{x} in L_i$).\n",
    "* We can estimate $P( <\\mathbf{x},\\mathbf{y}>_{\\mathbf{y} \\in L_i} \\mid \\mathbf{x} \\notin L_i )$ for each $i$ (using all $\\mathbf{x} not in L_i$).\n",
    "* Assume $P(\\mathbf{x} \\in L_i )$ is flat and cancels out in ratio comparisions.\n",
    "\n",
    "Now compute the ratio of the likelihood that a neuron is in the lineage given the data to the likelihood that it is not.\n",
    "$\\frac{P( <\\mathbf{x},\\mathbf{y}>_{\\mathbf{y} \\in L_i} \\mid \\mathbf{x} \\in L_i )}{P( <\\mathbf{x},\\mathbf{y}>_{\\mathbf{y} \\in L_i} \\mid \\mathbf{x} \\notin L_i )} $ for all proximate lineages $i$.\n",
    "\n",
    "For each lineage annotation, we're going to go through each neuron and train the above on all other neurons. If the most likely lineage is still the top pick, then we're good and move on. If not, we double check by plotting the lineages or, potentially, going to the EM data directly to look at bundling properties."
   ]
  },
  {
   "cell_type": "code",
   "execution_count": 13,
   "metadata": {},
   "outputs": [],
   "source": [
    "lin_ind = 10\n",
    "side = 'l'\n",
    "\n",
    "nearby_neuron_radius = 3000\n",
    "nearby_lineage_radius = 4 * nearby_neuron_radius\n",
    "min_cable = 5000\n",
    "l_span = 30 * 1000\n",
    "resample_distance = 1000\n",
    "reroot_skeletons = True"
   ]
  },
  {
   "cell_type": "code",
   "execution_count": 15,
   "metadata": {},
   "outputs": [
    {
     "name": "stdout",
     "output_type": "stream",
     "text": [
      "248 neurons are in the close group for lineage BAmd2_v and 14 neurons are in the current lineage annotation\n",
      "0 same-lineage neurons are not in the close group\n"
     ]
    }
   ],
   "source": [
    "base_lin = sorted(list(hemilateral_groups.keys()))[lin_ind]\n",
    "\n",
    "# Compute distances between our base location and other lineages.\n",
    "if side == 'l':\n",
    "    xyz0 = hemilateral_groups[base_lin]['l_loc']\n",
    "elif side == 'r':\n",
    "    xyz0 = hemilateral_groups[base_lin]['r_loc']\n",
    "ds = sp.spatial.distance.cdist(xyz0,np.array(list(lin_df.xyz.values)))[0]\n",
    "lin_df_sp = lin_df.assign(ds=ds)\n",
    "\n",
    "# Compute skeletons that are within `nearby_neuron_radius` of the base point\n",
    "lin_ids = l1data.get_ids_from_annotations( hemilateral_groups[base_lin][side], flatten=True )\n",
    "close_skids = l1data.in_surrounding_box(xyz0[0], nearby_neuron_radius, min_nodes=2, min_cable = min_cable)\n",
    "print( \"{} neurons are in the close group for lineage {} and {} neurons are in the current lineage annotation\".format(len(close_skids), base_lin, len(lin_ids)))\n",
    "print( \"{} same-lineage neurons are not in the close group\".format( len( set(lin_ids).difference( set(close_skids) ) ) ))"
   ]
  },
  {
   "cell_type": "markdown",
   "metadata": {},
   "source": [
    "---\n",
    "### Now we want to find 'problem' neurons, that is neurons with either no lineage annotation or too many lineage annotations, but also have a soma."
   ]
  },
  {
   "cell_type": "code",
   "execution_count": 10,
   "metadata": {},
   "outputs": [
    {
     "name": "stdout",
     "output_type": "stream",
     "text": [
      "1678567 has multiple lineage annotations!\n"
     ]
    },
    {
     "data": {
      "text/html": [
       "<a href=\"https://neurocean.janelia.org/catmaidL1/?&pid=1&xp=88600.8&yp=27337.2&zp=37700.0&active_node_id=1678571&active_skeleton_id=1678567&tool=tracingtool&sid0=1&s0=0\">BU ; DALd 4_left</a>"
      ],
      "text/plain": [
       "<IPython.core.display.HTML object>"
      ]
     },
     "metadata": {},
     "output_type": "display_data"
    },
    {
     "name": "stdout",
     "output_type": "stream",
     "text": [
      "49 proximate neurons need lineage assignment\n"
     ]
    }
   ],
   "source": [
    "# Find all annotation_ids corresponding to lineages\n",
    "all_lin_ids = l1data.parse_annotation_list(all_lins,output='ids')\n",
    "\n",
    "# Find which lineage annotations are associated with which proximate skeletons\n",
    "sk_annos = dict()\n",
    "problem_ids = []\n",
    "num_lineage_annos = []\n",
    "for skid in close_skids:\n",
    "    sk_annos[skid] = set(all_lin_ids).intersection(set(l1data.get_annotations_for_objects([skid])))\n",
    "    if len(sk_annos[skid]) == 0:\n",
    "        # Check to see if neurons have a soma.\n",
    "        if len(l1data.tag_query_for_skeleton( skid, 'soma' ))>0:\n",
    "            problem_ids.append(skid)\n",
    "    if len(sk_annos[skid]) > 1:\n",
    "        print(\"{} has multiple lineage annotations!\".format(skid))\n",
    "        num_lineage_annos.append(skid)\n",
    "        l1data.url_to_neurons(skid)\n",
    "        if len(l1data.tag_query_for_skeleton( skid, 'soma' ))>0:\n",
    "            problem_ids.append(skid)\n",
    "\n",
    "print(\"{} proximate neurons need lineage assignment\".format(len(problem_ids)))"
   ]
  },
  {
   "cell_type": "markdown",
   "metadata": {},
   "source": [
    "# Find all annotation_ids corresponding to lineages\n",
    "\n",
    "all_lin_ids = l1data.parse_annotation_list(all_lins,output='ids')\n",
    "\n",
    "# Find lineages that are within `nearby_neuron_radius` of the base point\n",
    "rel_lins = [ hemilateral_groups[row[1].lin][row[1].side[0]] for row in lin_df_sp[ lin_df_sp.ds < nearby_lineage_radius ].iterrows() ]\n",
    "base_lin_ids = l1data.get_ids_from_annotations(hemilateral_groups[base_lin][side], flatten=True)\n",
    "near_lin_ids = l1data.get_ids_from_annotations(rel_lins, flatten=True)\n",
    "\n",
    "# Make sure that the skeletons have proper roots\n",
    "if reroot_skeletons:\n",
    "    l1data.reroot_neurons_to_soma(near_lin_ids)\n",
    "\n",
    "# Find which lineage annotations are associated with which proximate skeletons\n",
    "multi_anno_ids = []\n",
    "for skid in base_lin_ids:\n",
    "    sk_annos = set(all_lin_ids).intersection(set(l1data.get_annotations_for_objects([skid])))\n",
    "    if len(sk_annos) > 1:\n",
    "        multi_anno_ids.append(skid)\n",
    "        print(\"{} has multiple lineage annotations!\".format(skid))\n",
    "        l1data.url_to_neurons(skid)"
   ]
  },
  {
   "cell_type": "markdown",
   "metadata": {},
   "source": [
    "---\n",
    "### Now we need to compute the base probabilities for the lineage groups in this particular region.\n",
    "*This could be fixed by pre-computing all lineage-lineage nblast scores.*"
   ]
  },
  {
   "cell_type": "code",
   "execution_count": 16,
   "metadata": {},
   "outputs": [],
   "source": [
    "rel_lins = [ hemilateral_groups[row[1].lin][row[1].side[0]] for row in lin_df_sp[ lin_df_sp.ds < nearby_lineage_radius ].iterrows() ]\n",
    "near_lin_ids = list(set(l1data.get_ids_from_annotations(rel_lins, flatten=True)).difference(set(problem_ids)))\n",
    "near_lin_nrns = cat.NeuronList.from_id_list(near_lin_ids, l1data)"
   ]
  },
  {
   "cell_type": "code",
   "execution_count": 17,
   "metadata": {},
   "outputs": [
    {
     "name": "stdout",
     "output_type": "stream",
     "text": [
      "The nearby lineages are: ['*BAmd1_l akira', '*DAMv12_med_l akira', '*BAmd2_v_l akira', '*BAmv12_dor_l akira', '*BAmv12_ven_l akira', '*DAMv12_lat_l akira', '*BAmd2_d_l akira']\n"
     ]
    }
   ],
   "source": [
    "near_lin_nrns = cat.NeuronList.from_id_list(near_lin_ids, l1data)\n",
    "print( \"The nearby lineages are: {}\".format(rel_lins))\n",
    "# Compute dotprops for NBLAST. Make one longer than the other so that targets of queries don't have an artificial truncation.\n",
    "initial_seg_dotprops_short = lineage_classifier.compute_initial_segment_dotprops( near_lin_nrns, l_span, resample_distance )\n",
    "initial_seg_dotprops_long = lineage_classifier.compute_initial_segment_dotprops( near_lin_nrns, 2 * l_span, resample_distance )\n",
    "\n",
    "# Get convenience interpreters.\n",
    "# Mapping from lineage to skids beloning to it. Remove problem ids with multiple annotations.\n",
    "lin_dict = l1data.get_ids_from_annotations(rel_lins)\n",
    "    \n",
    "lin_name2id = {name:l1data.parse_annotation_list(name)[0] for name in rel_lins}\n",
    "lin_id2name = {lin_name2id[name]:name for name in lin_name2id}\n",
    "\n",
    "skid2lin = {}\n",
    "skid2lin_name = {}\n",
    "for lin in lin_dict:\n",
    "    for skid in lin_dict[lin]:\n",
    "        skid2lin[skid] = lin"
   ]
  },
  {
   "cell_type": "code",
   "execution_count": 18,
   "metadata": {},
   "outputs": [],
   "source": [
    "# This could be pre-computed\n",
    "lineage_lineage_nblast = pynblast.nblast_neurons(smat,nrns_q=initial_seg_dotprops_short, nrns_t=initial_seg_dotprops_long,as_dotprop=True,normalize=True).pivot(  index='Queries', columns='Targets', values='S')"
   ]
  },
  {
   "cell_type": "markdown",
   "metadata": {},
   "source": [
    "#### Compute likelihood ratios for each of the lineages"
   ]
  },
  {
   "cell_type": "code",
   "execution_count": null,
   "metadata": {},
   "outputs": [],
   "source": [
    "\n",
    "for lin_id in near_lin_ds:\n",
    "    P_match, P_unmatch = lineage_classifier.compute_conditional_distributions(lineage_lineage_nblast, lin_dict, lin_name2id, rel_lins )\n",
    "    kdes_match, kdes_match_norm = lineage_classifier.fit_gaussian_kdes(P_match)"
   ]
  },
  {
   "cell_type": "code",
   "execution_count": null,
   "metadata": {},
   "outputs": [],
   "source": [
    "problem_ids = []\n",
    "problem_table = []\n",
    "\n",
    "for rel_skid in base_lin_ids:\n",
    "    P_match, P_unmatch = lineage_classifier.compute_conditional_distributions(lineage_lineage_nblast, lin_dict, lin_name2id, rel_lins, skip_skids=rel_skid )\n",
    "    kdes_match, kdes_match_norm = lineage_classifier.fit_gaussian_kdes(P_match)\n",
    "    kdes_unmatch, kdes_unmatch_norm = lineage_classifier.fit_gaussian_kdes(P_unmatch)\n",
    "    suggested_matches = lineage_classifier.lineage_likelihood_ratios(rel_skid, lineage_lineage_nblast, lin_dict, lin_name2id, rel_lins, kdes_match, kdes_match_norm, kdes_unmatch, kdes_unmatch_norm)\n",
    "\n",
    "    if suggested_matches[suggested_matches.Lineage==hemilateral_groups[base_lin][side]].FractionOfBest.values < 1:\n",
    "        problem_table.append(suggested_matches)\n",
    "        problem_ids.append(rel_skid)\n",
    "\n",
    "if len(problem_table)>1:\n",
    "    problem_table = pd.concat(problem_table,ignore_index=True)\n",
    "    print(\"{} skeleton ids need to be checked\".format(len(problem_ids)))\n",
    "    focused_table = problem_table[ (problem_table.FractionOfBest==1)\n",
    "                               | (problem_table.Lineage==hemilateral_groups[base_lin][side]) ].reset_index(drop=True)\n",
    "elif len(problem_table)==1:\n",
    "    problem_table = problem_table[0]\n",
    "    print(\"{} skeleton ids need to be checked\".format(len(problem_ids)))\n",
    "    focused_table = problem_table[ (problem_table.FractionOfBest==1)\n",
    "                               | (problem_table.Lineage==hemilateral_groups[base_lin][side]) ].reset_index(drop=True)\n",
    "else:\n",
    "    print(\"No skeleton ids need to be checked\")\n",
    "    focused_table = pd.DataFrame({'FractionOfBest':[], 'LikelihoodRatio':[], 'Lineage':[], 'SkeletonId':[]})\n",
    "focused_table"
   ]
  },
  {
   "cell_type": "markdown",
   "metadata": {},
   "source": [
    "### Plot the candidate matches to confirm suggestions."
   ]
  },
  {
   "cell_type": "code",
   "execution_count": null,
   "metadata": {},
   "outputs": [],
   "source": [
    "# Plug in a row number from the above table, corresponding to the entry with the 1.00 in fraction of best (this will be even)\n",
    "row_num = 3\n",
    "\n",
    "rel_skid = focused_table[focused_table.index==row_num].SkeletonId.values[0]\n",
    "suggest_lin = focused_table[focused_table.index==row_num].Lineage.values[0]\n",
    "if rel_skid in multi_anno_ids:\n",
    "    display(HTML(\n",
    "        '<mark><b>NEURON HAS MULIPLE LINEAGE ANNOTATIONS!</b></mark>'))\n",
    "l1data.url_to_neurons(rel_skid)\n",
    "display(HTML('<b>Current lineage:</b> {}'.format(hemilateral_groups[base_lin][side])))\n",
    "display(HTML('<b><font color=\"blue\">Suggested lineage:</b> {}</font>'.format(suggest_lin)))\n",
    "\n",
    "\n",
    "data = []\n",
    "data.append( catplt.path_data( initial_seg_dotprops_long[rel_skid][:,0:3], color=(0.9,0,.1), width=5, name=near_lin_nrns[rel_skid].name ) )\n",
    "\n",
    "# Plot the suggested lineage\n",
    "if suggest_lin != hemilateral_groups[base_lin][side]:\n",
    "    for skid in lin_dict[lin_name2id[suggest_lin]]:\n",
    "        data.append( catplt.path_data( initial_seg_dotprops_long[skid][:,0:3], color=(0.1,0.1,0.9), width=1, name=suggest_lin) )\n",
    "\n",
    "# Plot the currently assigned lineage\n",
    "for skid in lin_dict[lin_name2id[hemilateral_groups[base_lin][side]]]:\n",
    "    data.append( catplt.path_data( initial_seg_dotprops_long[skid][:,0:3], color=(0.5,0.5,0.5), width=1, name=hemilateral_groups[base_lin][side]) )\n",
    "\n",
    "layout = go.Layout({'showlegend':False, 'width':800, 'height':800})\n",
    "fig = go.Figure(data=data,layout=layout)\n",
    "py.iplot(fig)"
   ]
  },
  {
   "cell_type": "markdown",
   "metadata": {},
   "source": []
  },
  {
   "cell_type": "code",
   "execution_count": null,
   "metadata": {},
   "outputs": [],
   "source": []
  },
  {
   "cell_type": "code",
   "execution_count": null,
   "metadata": {},
   "outputs": [],
   "source": []
  },
  {
   "cell_type": "code",
   "execution_count": null,
   "metadata": {},
   "outputs": [],
   "source": []
  },
  {
   "cell_type": "code",
   "execution_count": null,
   "metadata": {},
   "outputs": [],
   "source": []
  },
  {
   "cell_type": "markdown",
   "metadata": {},
   "source": [
    "---\n",
    "### Example code below to plot all the local environment lineages."
   ]
  },
  {
   "cell_type": "code",
   "execution_count": null,
   "metadata": {},
   "outputs": [],
   "source": [
    "clrs = plt.get_cmap('Set1').colors\n",
    "color_cycle = cycle( plt.get_cmap('Dark2').colors )\n",
    "\n",
    "clr_dict = {}\n",
    "\n",
    "for lb in np.unique(np.unique(list(lin_dict.keys()))):\n",
    "    clr_dict[lb] = next(color_cycle)\n",
    "\n",
    "data = []\n",
    "for skid in initial_seg_dotprops:\n",
    "    lb = skid2lin[skid]\n",
    "    data.append( catplt.path_data( initial_seg_dotprops[skid][:,0:3], color=clr_dict[lb], width=4, name = lin_id2name[lb]) )\n",
    "\n",
    "layout = go.Layout({'showlegend':False, 'width':500, 'height':500})\n",
    "fig = go.Figure(data=data,layout=layout)\n",
    "py.iplot(fig)"
   ]
  }
 ],
 "metadata": {
  "kernelspec": {
   "display_name": "nrn",
   "language": "python",
   "name": "nrn"
  },
  "language_info": {
   "codemirror_mode": {
    "name": "ipython",
    "version": 3
   },
   "file_extension": ".py",
   "mimetype": "text/x-python",
   "name": "python",
   "nbconvert_exporter": "python",
   "pygments_lexer": "ipython3",
   "version": "3.5.5"
  }
 },
 "nbformat": 4,
 "nbformat_minor": 2
}
